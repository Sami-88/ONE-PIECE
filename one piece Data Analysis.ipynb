{
 "cells": [
  {
   "cell_type": "markdown",
   "id": "8d61fc7f",
   "metadata": {},
   "source": [
    "# DATA  ANALYSIS OF ONE PIECE\n",
    "\n",
    "<span style=\"color:blue\">**Import the Required Modules**</span>."
   ]
  },
  {
   "cell_type": "code",
   "execution_count": null,
   "id": "3436724f",
   "metadata": {},
   "outputs": [],
   "source": [
    "import pandas as pd\n",
    "import numpy as np\n",
    "import seaborn as sns\n",
    "import matplotlib.pyplot as plt\n",
    "%matplotlib inline"
   ]
  },
  {
   "cell_type": "markdown",
   "id": "160ea4e2",
   "metadata": {},
   "source": [
    "# Read Data\n",
    "<span style=\"color:blue\">**Please ensure that your folder name doesnot have a</span>. <span style=\"color:red\">space or afterward slash.**</span>."
   ]
  },
  {
   "cell_type": "code",
   "execution_count": 20,
   "id": "f9944735",
   "metadata": {},
   "outputs": [
    {
     "ename": "NameError",
     "evalue": "name 'pd' is not defined",
     "output_type": "error",
     "traceback": [
      "\u001b[1;31m---------------------------------------------------------------------------\u001b[0m",
      "\u001b[1;31mNameError\u001b[0m                                 Traceback (most recent call last)",
      "\u001b[1;32m~\\AppData\\Local\\Temp/ipykernel_924/575104067.py\u001b[0m in \u001b[0;36m<module>\u001b[1;34m\u001b[0m\n\u001b[1;32m----> 1\u001b[1;33m \u001b[0manime\u001b[0m \u001b[1;33m=\u001b[0m \u001b[0mpd\u001b[0m\u001b[1;33m.\u001b[0m\u001b[0mread_csv\u001b[0m\u001b[1;33m(\u001b[0m\u001b[1;34mr\"C:\\Users\\asd\\Downloads\\ONE PIECE.csv\"\u001b[0m\u001b[1;33m)\u001b[0m\u001b[1;33m\u001b[0m\u001b[1;33m\u001b[0m\u001b[0m\n\u001b[0m",
      "\u001b[1;31mNameError\u001b[0m: name 'pd' is not defined"
     ]
    }
   ],
   "source": [
    "anime = pd.read_csv(r\"C:\\Users\\asd\\Downloads\\ONE PIECE.csv\")"
   ]
  },
  {
   "cell_type": "markdown",
   "id": "54cb4f24",
   "metadata": {},
   "source": [
    "# **Inspecting the Rows**\n",
    "<span style=\"color:blue\">**check 10 Top Rows of the Dataset**</span>."
   ]
  },
  {
   "cell_type": "code",
   "execution_count": 10,
   "id": "5e5b42a7",
   "metadata": {
    "scrolled": true
   },
   "outputs": [
    {
     "ename": "NameError",
     "evalue": "name 'anime' is not defined",
     "output_type": "error",
     "traceback": [
      "\u001b[1;31m---------------------------------------------------------------------------\u001b[0m",
      "\u001b[1;31mNameError\u001b[0m                                 Traceback (most recent call last)",
      "\u001b[1;32m~\\AppData\\Local\\Temp/ipykernel_924/1481290714.py\u001b[0m in \u001b[0;36m<module>\u001b[1;34m\u001b[0m\n\u001b[1;32m----> 1\u001b[1;33m \u001b[0manime\u001b[0m\u001b[1;33m.\u001b[0m\u001b[0mhead\u001b[0m\u001b[1;33m(\u001b[0m\u001b[1;36m10\u001b[0m\u001b[1;33m)\u001b[0m\u001b[1;33m\u001b[0m\u001b[1;33m\u001b[0m\u001b[0m\n\u001b[0m",
      "\u001b[1;31mNameError\u001b[0m: name 'anime' is not defined"
     ]
    }
   ],
   "source": [
    "anime.head(10)"
   ]
  },
  {
   "cell_type": "markdown",
   "id": "081ce96b",
   "metadata": {},
   "source": [
    "<span style=\"color:blue\">**check Last 10 Rows of the Dataset**</span>."
   ]
  },
  {
   "cell_type": "code",
   "execution_count": null,
   "id": "da020ec3",
   "metadata": {},
   "outputs": [],
   "source": [
    "anime.tail(10)"
   ]
  },
  {
   "cell_type": "markdown",
   "id": "6daf7dc5",
   "metadata": {},
   "source": [
    "# Find shape of Our Dataset \n",
    "<span style=\"color:blue\">**(Number of Rows and Number of Columns)**</span>."
   ]
  },
  {
   "cell_type": "markdown",
   "id": "bdcad2ab",
   "metadata": {},
   "source": [
    "<span style=\"color:blue\">**Getting Informatiom about our Dataset Like Total Number of Rows and Columns, Datatypes and Memory Required**</span>."
   ]
  },
  {
   "cell_type": "code",
   "execution_count": null,
   "id": "dc3c6c70",
   "metadata": {
    "scrolled": true
   },
   "outputs": [],
   "source": [
    "anime.shape"
   ]
  },
  {
   "cell_type": "code",
   "execution_count": null,
   "id": "ecaddc90",
   "metadata": {},
   "outputs": [],
   "source": [
    "print(\"Number of Rows\",anime.shape[0])\n",
    "print(\"Number of Columns\",anime.shape[1])"
   ]
  },
  {
   "cell_type": "code",
   "execution_count": null,
   "id": "048231e6",
   "metadata": {
    "scrolled": false
   },
   "outputs": [],
   "source": [
    "anime.info()"
   ]
  },
  {
   "cell_type": "markdown",
   "id": "c4c4b31e",
   "metadata": {},
   "source": [
    "# Get Overall Statistics About The DataFrame"
   ]
  },
  {
   "cell_type": "markdown",
   "id": "3c89eed4",
   "metadata": {},
   "source": [
    "<span style=\"color:blue\">**To Find Mean,Mode and Median**</span>."
   ]
  },
  {
   "cell_type": "code",
   "execution_count": null,
   "id": "85551385",
   "metadata": {
    "scrolled": false
   },
   "outputs": [],
   "source": [
    "anime.describe()"
   ]
  },
  {
   "cell_type": "markdown",
   "id": "c45ebac3",
   "metadata": {},
   "source": [
    "<span style=\"color:blue\">**Statistics for catogrical and numerical**</span>."
   ]
  },
  {
   "cell_type": "code",
   "execution_count": null,
   "id": "3e2741e4",
   "metadata": {
    "scrolled": false
   },
   "outputs": [],
   "source": [
    "anime.describe(include='all')"
   ]
  },
  {
   "cell_type": "markdown",
   "id": "46bad7e4",
   "metadata": {},
   "source": [
    "# **Check Missing Values In the Dataset**\n",
    "\n",
    "<span style=\"color:blue\">**we can use the Dataset to create a simple <span style=\"color:red\">heatmap</span>. to see where we are missing data!**</span>."
   ]
  },
  {
   "cell_type": "code",
   "execution_count": null,
   "id": "e4931b90",
   "metadata": {},
   "outputs": [],
   "source": [
    "print(\"Any missing Value?\",anime.isnull().values.any())\n",
    "sns.heatmap(anime.isnull())"
   ]
  },
  {
   "cell_type": "markdown",
   "id": "c84a4028",
   "metadata": {},
   "source": [
    "# **Check For Duplicate Data**"
   ]
  },
  {
   "cell_type": "code",
   "execution_count": null,
   "id": "e6cfe56c",
   "metadata": {
    "scrolled": false
   },
   "outputs": [],
   "source": [
    "dup_data=anime.duplicated().any()\n",
    "print(\"Are there any duplicate Values?\",dup_data)"
   ]
  },
  {
   "cell_type": "markdown",
   "id": "1721f696",
   "metadata": {},
   "source": [
    "# **Display Title of the Episodes**"
   ]
  },
  {
   "cell_type": "code",
   "execution_count": null,
   "id": "971fd4c3",
   "metadata": {
    "scrolled": true
   },
   "outputs": [],
   "source": [
    "anime.columns"
   ]
  },
  {
   "cell_type": "code",
   "execution_count": null,
   "id": "d0892c62",
   "metadata": {},
   "outputs": [],
   "source": [
    "anime['episode']"
   ]
  },
  {
   "cell_type": "markdown",
   "id": "988df648",
   "metadata": {},
   "source": [
    "# **Showing histogramically**"
   ]
  },
  {
   "cell_type": "code",
   "execution_count": null,
   "id": "810e1fe6",
   "metadata": {
    "scrolled": true
   },
   "outputs": [],
   "source": [
    "anime.hist()"
   ]
  },
  {
   "cell_type": "markdown",
   "id": "3011c4c2",
   "metadata": {},
   "source": [
    "# Find the Rank Overall"
   ]
  },
  {
   "cell_type": "code",
   "execution_count": null,
   "id": "e1987a57",
   "metadata": {
    "scrolled": false
   },
   "outputs": [],
   "source": [
    "plt.figure(figsize = (20,5))\n",
    "plt.hist(anime['rank'])"
   ]
  },
  {
   "cell_type": "markdown",
   "id": "3d9aa677",
   "metadata": {},
   "source": [
    "# Find The Average Rating Overall"
   ]
  },
  {
   "cell_type": "code",
   "execution_count": null,
   "id": "c96fb064",
   "metadata": {
    "scrolled": true
   },
   "outputs": [],
   "source": [
    "plt.figure(figsize = (15,5))\n",
    "plt.hist(anime['average_rating'])"
   ]
  },
  {
   "cell_type": "markdown",
   "id": "bc6e3199",
   "metadata": {},
   "source": [
    "# Finding The Average Rating per Episode"
   ]
  },
  {
   "cell_type": "code",
   "execution_count": null,
   "id": "38d4ff73",
   "metadata": {
    "scrolled": true
   },
   "outputs": [],
   "source": [
    "anime.groupby(['average_rating']).sum().plot(kind='pie', y='episode')"
   ]
  },
  {
   "cell_type": "markdown",
   "id": "95093d93",
   "metadata": {},
   "source": [
    "# Plotting The Average Rating Graphically "
   ]
  },
  {
   "cell_type": "code",
   "execution_count": null,
   "id": "443ebfa1",
   "metadata": {},
   "outputs": [],
   "source": [
    "plt.figure(figsize = (20, 30))\n",
    "anime['average_rating'].value_counts().sort_index().plot.barh()"
   ]
  },
  {
   "cell_type": "markdown",
   "id": "a0cf8533",
   "metadata": {},
   "source": [
    "# Drawing Attractive Statical Graph"
   ]
  },
  {
   "cell_type": "code",
   "execution_count": null,
   "id": "d1c51160",
   "metadata": {
    "scrolled": true
   },
   "outputs": [],
   "source": [
    "sns.pairplot(anime)"
   ]
  },
  {
   "cell_type": "markdown",
   "id": "83f64afe",
   "metadata": {},
   "source": [
    "# Mathematically using CARTESIAN for Average Rating"
   ]
  },
  {
   "cell_type": "code",
   "execution_count": null,
   "id": "62402fd3",
   "metadata": {
    "scrolled": false
   },
   "outputs": [],
   "source": [
    "plt.figure(figsize = (20,5))\n",
    "plt.scatter(anime['episode'],anime['average_rating'])"
   ]
  },
  {
   "cell_type": "markdown",
   "id": "96ef9b85",
   "metadata": {},
   "source": [
    "#  Mathematically using CARTESIAN for Total Votes"
   ]
  },
  {
   "cell_type": "code",
   "execution_count": null,
   "id": "87550f5a",
   "metadata": {},
   "outputs": [],
   "source": [
    "plt.figure(figsize = (20,5))\n",
    "plt.scatter(anime['episode'],anime['total_votes'])"
   ]
  },
  {
   "cell_type": "markdown",
   "id": "d3a801e1",
   "metadata": {},
   "source": [
    "# Mathematically using CARTESIAN for Rank"
   ]
  },
  {
   "cell_type": "code",
   "execution_count": null,
   "id": "8088bf3a",
   "metadata": {
    "scrolled": false
   },
   "outputs": [],
   "source": [
    "plt.figure(figsize = (20,5))\n",
    "plt.scatter(anime['episode'],anime['rank'])"
   ]
  },
  {
   "cell_type": "markdown",
   "id": "95d2937a",
   "metadata": {},
   "source": [
    "# Mathematically using CARTESIAN Trending episodes"
   ]
  },
  {
   "cell_type": "code",
   "execution_count": null,
   "id": "34897a8e",
   "metadata": {
    "scrolled": true
   },
   "outputs": [],
   "source": [
    "plt.figure(figsize = (20,5))\n",
    "plt.scatter(anime['episode'],anime['trend'])"
   ]
  },
  {
   "cell_type": "markdown",
   "id": "00aaf780",
   "metadata": {},
   "source": [
    "# Plotting for Votes "
   ]
  },
  {
   "cell_type": "code",
   "execution_count": 21,
   "id": "a7092b19",
   "metadata": {
    "scrolled": true
   },
   "outputs": [
    {
     "ename": "NameError",
     "evalue": "name 'plt' is not defined",
     "output_type": "error",
     "traceback": [
      "\u001b[1;31m---------------------------------------------------------------------------\u001b[0m",
      "\u001b[1;31mNameError\u001b[0m                                 Traceback (most recent call last)",
      "\u001b[1;32m~\\AppData\\Local\\Temp/ipykernel_924/2333772960.py\u001b[0m in \u001b[0;36m<module>\u001b[1;34m\u001b[0m\n\u001b[1;32m----> 1\u001b[1;33m \u001b[0mplt\u001b[0m\u001b[1;33m.\u001b[0m\u001b[0mfigure\u001b[0m\u001b[1;33m(\u001b[0m\u001b[0mfigsize\u001b[0m \u001b[1;33m=\u001b[0m \u001b[1;33m(\u001b[0m\u001b[1;36m50\u001b[0m\u001b[1;33m,\u001b[0m\u001b[1;36m15\u001b[0m\u001b[1;33m)\u001b[0m\u001b[1;33m)\u001b[0m\u001b[1;33m\u001b[0m\u001b[1;33m\u001b[0m\u001b[0m\n\u001b[0m\u001b[0;32m      2\u001b[0m \u001b[0manime\u001b[0m\u001b[1;33m[\u001b[0m\u001b[1;34m'total_votes'\u001b[0m\u001b[1;33m]\u001b[0m\u001b[1;33m.\u001b[0m\u001b[0mvalue_counts\u001b[0m\u001b[1;33m(\u001b[0m\u001b[1;33m)\u001b[0m\u001b[1;33m.\u001b[0m\u001b[0msort_index\u001b[0m\u001b[1;33m(\u001b[0m\u001b[1;33m)\u001b[0m\u001b[1;33m.\u001b[0m\u001b[0mplot\u001b[0m\u001b[1;33m.\u001b[0m\u001b[0mbar\u001b[0m\u001b[1;33m(\u001b[0m\u001b[1;33m)\u001b[0m\u001b[1;33m\u001b[0m\u001b[1;33m\u001b[0m\u001b[0m\n",
      "\u001b[1;31mNameError\u001b[0m: name 'plt' is not defined"
     ]
    }
   ],
   "source": [
    "plt.figure(figsize = (50,15))\n",
    "anime['total_votes'].value_counts().sort_index().plot.bar()"
   ]
  },
  {
   "cell_type": "code",
   "execution_count": null,
   "id": "84611eb6",
   "metadata": {},
   "outputs": [],
   "source": [
    "!jt -l"
   ]
  },
  {
   "cell_type": "code",
   "execution_count": null,
   "id": "466cd150",
   "metadata": {},
   "outputs": [],
   "source": [
    "!jt -t onedork"
   ]
  },
  {
   "cell_type": "code",
   "execution_count": null,
   "id": "9acadf67",
   "metadata": {
    "scrolled": true
   },
   "outputs": [],
   "source": [
    "!jt -r"
   ]
  },
  {
   "cell_type": "code",
   "execution_count": null,
   "id": "a9eaeeab",
   "metadata": {},
   "outputs": [],
   "source": []
  }
 ],
 "metadata": {
  "kernelspec": {
   "display_name": "Python 3 (ipykernel)",
   "language": "python",
   "name": "python3"
  },
  "language_info": {
   "codemirror_mode": {
    "name": "ipython",
    "version": 3
   },
   "file_extension": ".py",
   "mimetype": "text/x-python",
   "name": "python",
   "nbconvert_exporter": "python",
   "pygments_lexer": "ipython3",
   "version": "3.9.7"
  }
 },
 "nbformat": 4,
 "nbformat_minor": 5
}
